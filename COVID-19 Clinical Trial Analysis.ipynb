{
 "cells": [
  {
   "cell_type": "code",
   "execution_count": 1,
   "id": "ef95b5fe-f5fc-4b1b-aee2-649ad595dddf",
   "metadata": {},
   "outputs": [],
   "source": [
    "import pandas as pd\n",
    "import numpy as np\n",
    "import seaborn as sns\n",
    "import matplotlib.pyplot as plt"
   ]
  },
  {
   "cell_type": "code",
   "execution_count": 2,
   "id": "41a5ff8b-5ce3-4ed2-9a1e-e9caeefcbdf4",
   "metadata": {},
   "outputs": [
    {
     "data": {
      "text/html": [
       "<div>\n",
       "<style scoped>\n",
       "    .dataframe tbody tr th:only-of-type {\n",
       "        vertical-align: middle;\n",
       "    }\n",
       "\n",
       "    .dataframe tbody tr th {\n",
       "        vertical-align: top;\n",
       "    }\n",
       "\n",
       "    .dataframe thead th {\n",
       "        text-align: right;\n",
       "    }\n",
       "</style>\n",
       "<table border=\"1\" class=\"dataframe\">\n",
       "  <thead>\n",
       "    <tr style=\"text-align: right;\">\n",
       "      <th></th>\n",
       "      <th>NCT Number</th>\n",
       "      <th>Title</th>\n",
       "      <th>Acronym</th>\n",
       "      <th>Status</th>\n",
       "      <th>Study Results</th>\n",
       "      <th>Conditions</th>\n",
       "      <th>Interventions</th>\n",
       "      <th>Outcome Measures</th>\n",
       "      <th>Sponsor/Collaborators</th>\n",
       "      <th>Gender</th>\n",
       "      <th>...</th>\n",
       "      <th>Other IDs</th>\n",
       "      <th>Start Date</th>\n",
       "      <th>Primary Completion Date</th>\n",
       "      <th>Completion Date</th>\n",
       "      <th>First Posted</th>\n",
       "      <th>Results First Posted</th>\n",
       "      <th>Last Update Posted</th>\n",
       "      <th>Locations</th>\n",
       "      <th>Study Documents</th>\n",
       "      <th>URL</th>\n",
       "    </tr>\n",
       "    <tr>\n",
       "      <th>Rank</th>\n",
       "      <th></th>\n",
       "      <th></th>\n",
       "      <th></th>\n",
       "      <th></th>\n",
       "      <th></th>\n",
       "      <th></th>\n",
       "      <th></th>\n",
       "      <th></th>\n",
       "      <th></th>\n",
       "      <th></th>\n",
       "      <th></th>\n",
       "      <th></th>\n",
       "      <th></th>\n",
       "      <th></th>\n",
       "      <th></th>\n",
       "      <th></th>\n",
       "      <th></th>\n",
       "      <th></th>\n",
       "      <th></th>\n",
       "      <th></th>\n",
       "      <th></th>\n",
       "    </tr>\n",
       "  </thead>\n",
       "  <tbody>\n",
       "    <tr>\n",
       "      <th>1</th>\n",
       "      <td>NCT04785898</td>\n",
       "      <td>Diagnostic Performance of the ID Now™ COVID-19...</td>\n",
       "      <td>COVID-IDNow</td>\n",
       "      <td>Active, not recruiting</td>\n",
       "      <td>No Results Available</td>\n",
       "      <td>Covid19</td>\n",
       "      <td>Diagnostic Test: ID Now™ COVID-19 Screening Test</td>\n",
       "      <td>Evaluate the diagnostic performance of the ID ...</td>\n",
       "      <td>Groupe Hospitalier Paris Saint Joseph</td>\n",
       "      <td>All</td>\n",
       "      <td>...</td>\n",
       "      <td>COVID-IDNow</td>\n",
       "      <td>November 9, 2020</td>\n",
       "      <td>December 22, 2020</td>\n",
       "      <td>April 30, 2021</td>\n",
       "      <td>March 8, 2021</td>\n",
       "      <td>NaN</td>\n",
       "      <td>March 8, 2021</td>\n",
       "      <td>Groupe Hospitalier Paris Saint-Joseph, Paris, ...</td>\n",
       "      <td>NaN</td>\n",
       "      <td>https://ClinicalTrials.gov/show/NCT04785898</td>\n",
       "    </tr>\n",
       "    <tr>\n",
       "      <th>2</th>\n",
       "      <td>NCT04595136</td>\n",
       "      <td>Study to Evaluate the Efficacy of COVID19-0001...</td>\n",
       "      <td>COVID-19</td>\n",
       "      <td>Not yet recruiting</td>\n",
       "      <td>No Results Available</td>\n",
       "      <td>SARS-CoV-2 Infection</td>\n",
       "      <td>Drug: Drug COVID19-0001-USR|Drug: normal saline</td>\n",
       "      <td>Change on viral load results from baseline aft...</td>\n",
       "      <td>United Medical Specialties</td>\n",
       "      <td>All</td>\n",
       "      <td>...</td>\n",
       "      <td>COVID19-0001-USR</td>\n",
       "      <td>November 2, 2020</td>\n",
       "      <td>December 15, 2020</td>\n",
       "      <td>January 29, 2021</td>\n",
       "      <td>October 20, 2020</td>\n",
       "      <td>NaN</td>\n",
       "      <td>October 20, 2020</td>\n",
       "      <td>Cimedical, Barranquilla, Atlantico, Colombia</td>\n",
       "      <td>NaN</td>\n",
       "      <td>https://ClinicalTrials.gov/show/NCT04595136</td>\n",
       "    </tr>\n",
       "    <tr>\n",
       "      <th>3</th>\n",
       "      <td>NCT04395482</td>\n",
       "      <td>Lung CT Scan Analysis of SARS-CoV2 Induced Lun...</td>\n",
       "      <td>TAC-COVID19</td>\n",
       "      <td>Recruiting</td>\n",
       "      <td>No Results Available</td>\n",
       "      <td>covid19</td>\n",
       "      <td>Other: Lung CT scan analysis in COVID-19 patients</td>\n",
       "      <td>A qualitative analysis of parenchymal lung dam...</td>\n",
       "      <td>University of Milano Bicocca</td>\n",
       "      <td>All</td>\n",
       "      <td>...</td>\n",
       "      <td>TAC-COVID19</td>\n",
       "      <td>May 7, 2020</td>\n",
       "      <td>June 15, 2021</td>\n",
       "      <td>June 15, 2021</td>\n",
       "      <td>May 20, 2020</td>\n",
       "      <td>NaN</td>\n",
       "      <td>November 9, 2020</td>\n",
       "      <td>Ospedale Papa Giovanni XXIII, Bergamo, Italy|P...</td>\n",
       "      <td>NaN</td>\n",
       "      <td>https://ClinicalTrials.gov/show/NCT04395482</td>\n",
       "    </tr>\n",
       "    <tr>\n",
       "      <th>4</th>\n",
       "      <td>NCT04416061</td>\n",
       "      <td>The Role of a Private Hospital in Hong Kong Am...</td>\n",
       "      <td>COVID-19</td>\n",
       "      <td>Active, not recruiting</td>\n",
       "      <td>No Results Available</td>\n",
       "      <td>COVID</td>\n",
       "      <td>Diagnostic Test: COVID 19 Diagnostic Test</td>\n",
       "      <td>Proportion of asymptomatic subjects|Proportion...</td>\n",
       "      <td>Hong Kong Sanatorium &amp; Hospital</td>\n",
       "      <td>All</td>\n",
       "      <td>...</td>\n",
       "      <td>RC-2020-08</td>\n",
       "      <td>May 25, 2020</td>\n",
       "      <td>July 31, 2020</td>\n",
       "      <td>August 31, 2020</td>\n",
       "      <td>June 4, 2020</td>\n",
       "      <td>NaN</td>\n",
       "      <td>June 4, 2020</td>\n",
       "      <td>Hong Kong Sanatorium &amp; Hospital, Hong Kong, Ho...</td>\n",
       "      <td>NaN</td>\n",
       "      <td>https://ClinicalTrials.gov/show/NCT04416061</td>\n",
       "    </tr>\n",
       "    <tr>\n",
       "      <th>5</th>\n",
       "      <td>NCT04395924</td>\n",
       "      <td>Maternal-foetal Transmission of SARS-Cov-2</td>\n",
       "      <td>TMF-COVID-19</td>\n",
       "      <td>Recruiting</td>\n",
       "      <td>No Results Available</td>\n",
       "      <td>Maternal Fetal Infection Transmission|COVID-19...</td>\n",
       "      <td>Diagnostic Test: Diagnosis of SARS-Cov2 by RT-...</td>\n",
       "      <td>COVID-19 by positive PCR in cord blood and / o...</td>\n",
       "      <td>Centre Hospitalier Régional d'Orléans|Centre d...</td>\n",
       "      <td>Female</td>\n",
       "      <td>...</td>\n",
       "      <td>CHRO-2020-10</td>\n",
       "      <td>May 5, 2020</td>\n",
       "      <td>May 2021</td>\n",
       "      <td>May 2021</td>\n",
       "      <td>May 20, 2020</td>\n",
       "      <td>NaN</td>\n",
       "      <td>June 4, 2020</td>\n",
       "      <td>CHR Orléans, Orléans, France</td>\n",
       "      <td>NaN</td>\n",
       "      <td>https://ClinicalTrials.gov/show/NCT04395924</td>\n",
       "    </tr>\n",
       "    <tr>\n",
       "      <th>...</th>\n",
       "      <td>...</td>\n",
       "      <td>...</td>\n",
       "      <td>...</td>\n",
       "      <td>...</td>\n",
       "      <td>...</td>\n",
       "      <td>...</td>\n",
       "      <td>...</td>\n",
       "      <td>...</td>\n",
       "      <td>...</td>\n",
       "      <td>...</td>\n",
       "      <td>...</td>\n",
       "      <td>...</td>\n",
       "      <td>...</td>\n",
       "      <td>...</td>\n",
       "      <td>...</td>\n",
       "      <td>...</td>\n",
       "      <td>...</td>\n",
       "      <td>...</td>\n",
       "      <td>...</td>\n",
       "      <td>...</td>\n",
       "      <td>...</td>\n",
       "    </tr>\n",
       "    <tr>\n",
       "      <th>5779</th>\n",
       "      <td>NCT04011644</td>\n",
       "      <td>Mobile Health for Alcohol Use Disorders in Cli...</td>\n",
       "      <td>NaN</td>\n",
       "      <td>Recruiting</td>\n",
       "      <td>No Results Available</td>\n",
       "      <td>Alcohol Drinking|Telemedicine</td>\n",
       "      <td>Behavioral: A-CHESS self-monitored|Behavioral:...</td>\n",
       "      <td>Number of risky drinking days|Number of patien...</td>\n",
       "      <td>University of Wisconsin, Madison|National Inst...</td>\n",
       "      <td>All</td>\n",
       "      <td>...</td>\n",
       "      <td>2019-0337|R01AA024150|A532007|SMPH/FAMILY MED/...</td>\n",
       "      <td>March 23, 2020</td>\n",
       "      <td>August 2022</td>\n",
       "      <td>April 2023</td>\n",
       "      <td>July 8, 2019</td>\n",
       "      <td>NaN</td>\n",
       "      <td>April 2, 2021</td>\n",
       "      <td>UW Health at the American Center, Madison, Wis...</td>\n",
       "      <td>NaN</td>\n",
       "      <td>https://ClinicalTrials.gov/show/NCT04011644</td>\n",
       "    </tr>\n",
       "    <tr>\n",
       "      <th>5780</th>\n",
       "      <td>NCT04681339</td>\n",
       "      <td>Antibiotic Prescription in Children Hospitaliz...</td>\n",
       "      <td>NaN</td>\n",
       "      <td>Not yet recruiting</td>\n",
       "      <td>No Results Available</td>\n",
       "      <td>Community Acquired Pneumonia in Children|Antib...</td>\n",
       "      <td>Other: Antibiotic treatment|Other: No antibiot...</td>\n",
       "      <td>Antibiotic treatment rates in hospitalized chi...</td>\n",
       "      <td>ARCIM Institute Academic Research in Complemen...</td>\n",
       "      <td>All</td>\n",
       "      <td>...</td>\n",
       "      <td>PKA-03</td>\n",
       "      <td>April 2021</td>\n",
       "      <td>November 2024</td>\n",
       "      <td>December 2024</td>\n",
       "      <td>December 23, 2020</td>\n",
       "      <td>NaN</td>\n",
       "      <td>February 10, 2021</td>\n",
       "      <td>Die Filderklinik, Filderstadt, Baden-Württembe...</td>\n",
       "      <td>NaN</td>\n",
       "      <td>https://ClinicalTrials.gov/show/NCT04681339</td>\n",
       "    </tr>\n",
       "    <tr>\n",
       "      <th>5781</th>\n",
       "      <td>NCT04740229</td>\n",
       "      <td>Moderate-intensity Flow-based Yoga Effects on ...</td>\n",
       "      <td>NaN</td>\n",
       "      <td>Recruiting</td>\n",
       "      <td>No Results Available</td>\n",
       "      <td>Stress|Psychological</td>\n",
       "      <td>Behavioral: Yoga</td>\n",
       "      <td>Perceived Stress|Task switching paradigm|Digit...</td>\n",
       "      <td>University of Illinois at Urbana-Champaign</td>\n",
       "      <td>All</td>\n",
       "      <td>...</td>\n",
       "      <td>21584</td>\n",
       "      <td>February 10, 2021</td>\n",
       "      <td>July 2021</td>\n",
       "      <td>July 2021</td>\n",
       "      <td>February 5, 2021</td>\n",
       "      <td>NaN</td>\n",
       "      <td>February 24, 2021</td>\n",
       "      <td>University of Illinois at Urbana-Champaign, Ur...</td>\n",
       "      <td>NaN</td>\n",
       "      <td>https://ClinicalTrials.gov/show/NCT04740229</td>\n",
       "    </tr>\n",
       "    <tr>\n",
       "      <th>5782</th>\n",
       "      <td>NCT04804917</td>\n",
       "      <td>3-year Follow-up of the Mind My Mind RCT</td>\n",
       "      <td>MindMyMindFU</td>\n",
       "      <td>Recruiting</td>\n",
       "      <td>No Results Available</td>\n",
       "      <td>Emotional Problem|Anxiety Disorder of Childhoo...</td>\n",
       "      <td>NaN</td>\n",
       "      <td>The child's impact of mental health problems r...</td>\n",
       "      <td>Mental Health Services in the Capital Region, ...</td>\n",
       "      <td>All</td>\n",
       "      <td>...</td>\n",
       "      <td>MHSCRDenmark, F-61502-03-1</td>\n",
       "      <td>March 22, 2021</td>\n",
       "      <td>May 31, 2022</td>\n",
       "      <td>December 31, 2022</td>\n",
       "      <td>March 18, 2021</td>\n",
       "      <td>NaN</td>\n",
       "      <td>April 1, 2021</td>\n",
       "      <td>Mental Health Services in the Capital Region, ...</td>\n",
       "      <td>NaN</td>\n",
       "      <td>https://ClinicalTrials.gov/show/NCT04804917</td>\n",
       "    </tr>\n",
       "    <tr>\n",
       "      <th>5783</th>\n",
       "      <td>NCT04680000</td>\n",
       "      <td>Chronic Pain Management In Primary Care Using ...</td>\n",
       "      <td>NaN</td>\n",
       "      <td>Not yet recruiting</td>\n",
       "      <td>No Results Available</td>\n",
       "      <td>Chronic Pain</td>\n",
       "      <td>Behavioral: Brief Cognitive Behavioral Therapy...</td>\n",
       "      <td>Defense and Veterans Pain Rating Scale (DVPRS)...</td>\n",
       "      <td>The University of Texas Health Science Center ...</td>\n",
       "      <td>All</td>\n",
       "      <td>...</td>\n",
       "      <td>HSC20200520H</td>\n",
       "      <td>February 2021</td>\n",
       "      <td>February 2024</td>\n",
       "      <td>February 2025</td>\n",
       "      <td>December 22, 2020</td>\n",
       "      <td>NaN</td>\n",
       "      <td>December 22, 2020</td>\n",
       "      <td>Uniformed Services University for the Health S...</td>\n",
       "      <td>NaN</td>\n",
       "      <td>https://ClinicalTrials.gov/show/NCT04680000</td>\n",
       "    </tr>\n",
       "  </tbody>\n",
       "</table>\n",
       "<p>5783 rows × 26 columns</p>\n",
       "</div>"
      ],
      "text/plain": [
       "       NCT Number                                              Title  \\\n",
       "Rank                                                                   \n",
       "1     NCT04785898  Diagnostic Performance of the ID Now™ COVID-19...   \n",
       "2     NCT04595136  Study to Evaluate the Efficacy of COVID19-0001...   \n",
       "3     NCT04395482  Lung CT Scan Analysis of SARS-CoV2 Induced Lun...   \n",
       "4     NCT04416061  The Role of a Private Hospital in Hong Kong Am...   \n",
       "5     NCT04395924         Maternal-foetal Transmission of SARS-Cov-2   \n",
       "...           ...                                                ...   \n",
       "5779  NCT04011644  Mobile Health for Alcohol Use Disorders in Cli...   \n",
       "5780  NCT04681339  Antibiotic Prescription in Children Hospitaliz...   \n",
       "5781  NCT04740229  Moderate-intensity Flow-based Yoga Effects on ...   \n",
       "5782  NCT04804917           3-year Follow-up of the Mind My Mind RCT   \n",
       "5783  NCT04680000  Chronic Pain Management In Primary Care Using ...   \n",
       "\n",
       "           Acronym                  Status         Study Results  \\\n",
       "Rank                                                               \n",
       "1      COVID-IDNow  Active, not recruiting  No Results Available   \n",
       "2         COVID-19      Not yet recruiting  No Results Available   \n",
       "3      TAC-COVID19              Recruiting  No Results Available   \n",
       "4         COVID-19  Active, not recruiting  No Results Available   \n",
       "5     TMF-COVID-19              Recruiting  No Results Available   \n",
       "...            ...                     ...                   ...   \n",
       "5779           NaN              Recruiting  No Results Available   \n",
       "5780           NaN      Not yet recruiting  No Results Available   \n",
       "5781           NaN              Recruiting  No Results Available   \n",
       "5782  MindMyMindFU              Recruiting  No Results Available   \n",
       "5783           NaN      Not yet recruiting  No Results Available   \n",
       "\n",
       "                                             Conditions  \\\n",
       "Rank                                                      \n",
       "1                                               Covid19   \n",
       "2                                  SARS-CoV-2 Infection   \n",
       "3                                               covid19   \n",
       "4                                                 COVID   \n",
       "5     Maternal Fetal Infection Transmission|COVID-19...   \n",
       "...                                                 ...   \n",
       "5779                      Alcohol Drinking|Telemedicine   \n",
       "5780  Community Acquired Pneumonia in Children|Antib...   \n",
       "5781                               Stress|Psychological   \n",
       "5782  Emotional Problem|Anxiety Disorder of Childhoo...   \n",
       "5783                                       Chronic Pain   \n",
       "\n",
       "                                          Interventions  \\\n",
       "Rank                                                      \n",
       "1      Diagnostic Test: ID Now™ COVID-19 Screening Test   \n",
       "2       Drug: Drug COVID19-0001-USR|Drug: normal saline   \n",
       "3     Other: Lung CT scan analysis in COVID-19 patients   \n",
       "4             Diagnostic Test: COVID 19 Diagnostic Test   \n",
       "5     Diagnostic Test: Diagnosis of SARS-Cov2 by RT-...   \n",
       "...                                                 ...   \n",
       "5779  Behavioral: A-CHESS self-monitored|Behavioral:...   \n",
       "5780  Other: Antibiotic treatment|Other: No antibiot...   \n",
       "5781                                   Behavioral: Yoga   \n",
       "5782                                                NaN   \n",
       "5783  Behavioral: Brief Cognitive Behavioral Therapy...   \n",
       "\n",
       "                                       Outcome Measures  \\\n",
       "Rank                                                      \n",
       "1     Evaluate the diagnostic performance of the ID ...   \n",
       "2     Change on viral load results from baseline aft...   \n",
       "3     A qualitative analysis of parenchymal lung dam...   \n",
       "4     Proportion of asymptomatic subjects|Proportion...   \n",
       "5     COVID-19 by positive PCR in cord blood and / o...   \n",
       "...                                                 ...   \n",
       "5779  Number of risky drinking days|Number of patien...   \n",
       "5780  Antibiotic treatment rates in hospitalized chi...   \n",
       "5781  Perceived Stress|Task switching paradigm|Digit...   \n",
       "5782  The child's impact of mental health problems r...   \n",
       "5783  Defense and Veterans Pain Rating Scale (DVPRS)...   \n",
       "\n",
       "                                  Sponsor/Collaborators  Gender  ...  \\\n",
       "Rank                                                             ...   \n",
       "1                 Groupe Hospitalier Paris Saint Joseph     All  ...   \n",
       "2                            United Medical Specialties     All  ...   \n",
       "3                          University of Milano Bicocca     All  ...   \n",
       "4                       Hong Kong Sanatorium & Hospital     All  ...   \n",
       "5     Centre Hospitalier Régional d'Orléans|Centre d...  Female  ...   \n",
       "...                                                 ...     ...  ...   \n",
       "5779  University of Wisconsin, Madison|National Inst...     All  ...   \n",
       "5780  ARCIM Institute Academic Research in Complemen...     All  ...   \n",
       "5781         University of Illinois at Urbana-Champaign     All  ...   \n",
       "5782  Mental Health Services in the Capital Region, ...     All  ...   \n",
       "5783  The University of Texas Health Science Center ...     All  ...   \n",
       "\n",
       "                                              Other IDs         Start Date  \\\n",
       "Rank                                                                         \n",
       "1                                           COVID-IDNow   November 9, 2020   \n",
       "2                                      COVID19-0001-USR   November 2, 2020   \n",
       "3                                           TAC-COVID19        May 7, 2020   \n",
       "4                                            RC-2020-08       May 25, 2020   \n",
       "5                                          CHRO-2020-10        May 5, 2020   \n",
       "...                                                 ...                ...   \n",
       "5779  2019-0337|R01AA024150|A532007|SMPH/FAMILY MED/...     March 23, 2020   \n",
       "5780                                             PKA-03         April 2021   \n",
       "5781                                              21584  February 10, 2021   \n",
       "5782                         MHSCRDenmark, F-61502-03-1     March 22, 2021   \n",
       "5783                                       HSC20200520H      February 2021   \n",
       "\n",
       "      Primary Completion Date    Completion Date       First Posted  \\\n",
       "Rank                                                                  \n",
       "1           December 22, 2020     April 30, 2021      March 8, 2021   \n",
       "2           December 15, 2020   January 29, 2021   October 20, 2020   \n",
       "3               June 15, 2021      June 15, 2021       May 20, 2020   \n",
       "4               July 31, 2020    August 31, 2020       June 4, 2020   \n",
       "5                    May 2021           May 2021       May 20, 2020   \n",
       "...                       ...                ...                ...   \n",
       "5779              August 2022         April 2023       July 8, 2019   \n",
       "5780            November 2024      December 2024  December 23, 2020   \n",
       "5781                July 2021          July 2021   February 5, 2021   \n",
       "5782             May 31, 2022  December 31, 2022     March 18, 2021   \n",
       "5783            February 2024      February 2025  December 22, 2020   \n",
       "\n",
       "     Results First Posted Last Update Posted  \\\n",
       "Rank                                           \n",
       "1                     NaN      March 8, 2021   \n",
       "2                     NaN   October 20, 2020   \n",
       "3                     NaN   November 9, 2020   \n",
       "4                     NaN       June 4, 2020   \n",
       "5                     NaN       June 4, 2020   \n",
       "...                   ...                ...   \n",
       "5779                  NaN      April 2, 2021   \n",
       "5780                  NaN  February 10, 2021   \n",
       "5781                  NaN  February 24, 2021   \n",
       "5782                  NaN      April 1, 2021   \n",
       "5783                  NaN  December 22, 2020   \n",
       "\n",
       "                                              Locations Study Documents  \\\n",
       "Rank                                                                      \n",
       "1     Groupe Hospitalier Paris Saint-Joseph, Paris, ...             NaN   \n",
       "2          Cimedical, Barranquilla, Atlantico, Colombia             NaN   \n",
       "3     Ospedale Papa Giovanni XXIII, Bergamo, Italy|P...             NaN   \n",
       "4     Hong Kong Sanatorium & Hospital, Hong Kong, Ho...             NaN   \n",
       "5                          CHR Orléans, Orléans, France             NaN   \n",
       "...                                                 ...             ...   \n",
       "5779  UW Health at the American Center, Madison, Wis...             NaN   \n",
       "5780  Die Filderklinik, Filderstadt, Baden-Württembe...             NaN   \n",
       "5781  University of Illinois at Urbana-Champaign, Ur...             NaN   \n",
       "5782  Mental Health Services in the Capital Region, ...             NaN   \n",
       "5783  Uniformed Services University for the Health S...             NaN   \n",
       "\n",
       "                                              URL  \n",
       "Rank                                               \n",
       "1     https://ClinicalTrials.gov/show/NCT04785898  \n",
       "2     https://ClinicalTrials.gov/show/NCT04595136  \n",
       "3     https://ClinicalTrials.gov/show/NCT04395482  \n",
       "4     https://ClinicalTrials.gov/show/NCT04416061  \n",
       "5     https://ClinicalTrials.gov/show/NCT04395924  \n",
       "...                                           ...  \n",
       "5779  https://ClinicalTrials.gov/show/NCT04011644  \n",
       "5780  https://ClinicalTrials.gov/show/NCT04681339  \n",
       "5781  https://ClinicalTrials.gov/show/NCT04740229  \n",
       "5782  https://ClinicalTrials.gov/show/NCT04804917  \n",
       "5783  https://ClinicalTrials.gov/show/NCT04680000  \n",
       "\n",
       "[5783 rows x 26 columns]"
      ]
     },
     "execution_count": 2,
     "metadata": {},
     "output_type": "execute_result"
    }
   ],
   "source": [
    "df = pd.read_csv(r'/Users/jasna/Downloads/COVID clinical trials.csv' , index_col = 0)\n",
    "df"
   ]
  },
  {
   "cell_type": "code",
   "execution_count": 3,
   "id": "407d0e4d-f60b-496a-9b72-29a719b6bff4",
   "metadata": {},
   "outputs": [
    {
     "data": {
      "text/plain": [
       "(5783, 26)"
      ]
     },
     "execution_count": 3,
     "metadata": {},
     "output_type": "execute_result"
    }
   ],
   "source": [
    "# Shape of the DataSet\n",
    "df.shape"
   ]
  },
  {
   "cell_type": "code",
   "execution_count": 4,
   "id": "c0ef4e50-4a34-4f1e-9342-7739c00e492a",
   "metadata": {},
   "outputs": [
    {
     "data": {
      "text/plain": [
       "Index(['NCT Number', 'Title', 'Acronym', 'Status', 'Study Results',\n",
       "       'Conditions', 'Interventions', 'Outcome Measures',\n",
       "       'Sponsor/Collaborators', 'Gender', 'Age', 'Phases', 'Enrollment',\n",
       "       'Funded Bys', 'Study Type', 'Study Designs', 'Other IDs', 'Start Date',\n",
       "       'Primary Completion Date', 'Completion Date', 'First Posted',\n",
       "       'Results First Posted', 'Last Update Posted', 'Locations',\n",
       "       'Study Documents', 'URL'],\n",
       "      dtype='object')"
      ]
     },
     "execution_count": 4,
     "metadata": {},
     "output_type": "execute_result"
    }
   ],
   "source": [
    "df.columns"
   ]
  },
  {
   "cell_type": "code",
   "execution_count": 5,
   "id": "9780876a-3d74-4d53-8716-dba182941a44",
   "metadata": {},
   "outputs": [
    {
     "data": {
      "text/plain": [
       "Index(['NCT Number', 'Title', 'Acronym', 'Status', 'Study Results',\n",
       "       'Conditions', 'Interventions', 'Outcome Measures',\n",
       "       'Sponsor/Collaborators', 'Gender', 'Age', 'Phases', 'Funded Bys',\n",
       "       'Study Type', 'Study Designs', 'Other IDs', 'Start Date',\n",
       "       'Primary Completion Date', 'Completion Date', 'First Posted',\n",
       "       'Results First Posted', 'Last Update Posted', 'Locations',\n",
       "       'Study Documents', 'URL'],\n",
       "      dtype='object')"
      ]
     },
     "execution_count": 5,
     "metadata": {},
     "output_type": "execute_result"
    }
   ],
   "source": [
    "df.select_dtypes(include = 'object').columns"
   ]
  },
  {
   "cell_type": "code",
   "execution_count": 6,
   "id": "d57cfce5-d12d-42f4-82cc-1ace4d519d4c",
   "metadata": {},
   "outputs": [
    {
     "data": {
      "text/plain": [
       "Index(['Enrollment'], dtype='object')"
      ]
     },
     "execution_count": 6,
     "metadata": {},
     "output_type": "execute_result"
    }
   ],
   "source": [
    "df.select_dtypes(exclude = 'object').columns"
   ]
  },
  {
   "cell_type": "code",
   "execution_count": 7,
   "id": "5a383024-55d4-4fc6-b48a-cf9c0eb022c7",
   "metadata": {},
   "outputs": [
    {
     "data": {
      "text/plain": [
       "NCT Number                  0.000000\n",
       "Title                       0.000000\n",
       "Acronym                    57.115684\n",
       "Status                      0.000000\n",
       "Study Results               0.000000\n",
       "Conditions                  0.000000\n",
       "Interventions              15.320768\n",
       "Outcome Measures            0.605222\n",
       "Sponsor/Collaborators       0.000000\n",
       "Gender                      0.172921\n",
       "Age                         0.000000\n",
       "Phases                     42.555767\n",
       "Enrollment                  0.587930\n",
       "Funded Bys                  0.000000\n",
       "Study Type                  0.000000\n",
       "Study Designs               0.605222\n",
       "Other IDs                   0.017292\n",
       "Start Date                  0.587930\n",
       "Primary Completion Date     0.622514\n",
       "Completion Date             0.622514\n",
       "First Posted                0.000000\n",
       "Results First Posted       99.377486\n",
       "Last Update Posted          0.000000\n",
       "Locations                  10.115857\n",
       "Study Documents            96.852845\n",
       "URL                         0.000000\n",
       "dtype: float64"
      ]
     },
     "execution_count": 7,
     "metadata": {},
     "output_type": "execute_result"
    }
   ],
   "source": [
    "# Detecting (Percentage) Missing Data\n",
    "missing_data = df.isnull().mean() * 100\n",
    "missing_data"
   ]
  },
  {
   "cell_type": "code",
   "execution_count": 8,
   "id": "c67b9af9-36d3-4854-8a26-6ad1b5cafe7a",
   "metadata": {},
   "outputs": [],
   "source": [
    "# Visualize data without calculating \n",
    "def visualize_data(data , caption = '' , ylabel = 'Percentage of Mising Data'):\n",
    "    \n",
    "    # set figure size\n",
    "    sns.set(rc={'figure.figsize':(15,8.27)})\n",
    "    # make ticks vertical\n",
    "    plt.xticks(rotation=90)\n",
    "    \n",
    "    # set title to the image and plot it or the highest 40\n",
    "    fig = sns.barplot(x = data.keys()[:min(40 , len(data))].tolist() , y = data.values[: min(40 , len(data))].tolist()) \\\n",
    "    .set_title(caption)\n",
    "    \n",
    "    # set labels\n",
    "    plt.ylabel(ylabel)\n",
    "    \n",
    "    plt.show()"
   ]
  },
  {
   "cell_type": "code",
   "execution_count": 9,
   "id": "ea78cce2-f931-4725-9837-fc1848f746f4",
   "metadata": {},
   "outputs": [
    {
     "name": "stderr",
     "output_type": "stream",
     "text": [
      "/opt/anaconda3/lib/python3.11/site-packages/seaborn/_oldcore.py:1765: FutureWarning: unique with argument that is not not a Series, Index, ExtensionArray, or np.ndarray is deprecated and will raise in a future version.\n",
      "  order = pd.unique(vector)\n"
     ]
    },
    {
     "data": {
      "image/png": "[encoded data removed]",
      "text/plain": [
       "<Figure size 1500x827 with 1 Axes>"
      ]
     },
     "metadata": {},
     "output_type": "display_data"
    }
   ],
   "source": [
    "visualize_data(missing_data , 'Percentage of missing data in each feature')"
   ]
  },
  {
   "cell_type": "markdown",
   "id": "a272d042-3b6f-4d44-a512-83011f445569",
   "metadata": {},
   "source": [
    "##### As shown the percentae of missing data in Results First Posted is 99.3% and Study Documents is 96.8%, so it's impossible to impute them without destoying our dataset."
   ]
  },
  {
   "cell_type": "code",
   "execution_count": 10,
   "id": "326987a1-ffa2-4d75-b008-d90696a0b5d7",
   "metadata": {},
   "outputs": [],
   "source": [
    "# Drop Study Documents and Results First Posted\n",
    "df.drop(['Results First Posted' , 'Study Documents'] , inplace = True , axis = 1 )"
   ]
  },
  {
   "cell_type": "code",
   "execution_count": 11,
   "id": "9ca943b7-55eb-47b3-9df7-ab42eb18f52c",
   "metadata": {},
   "outputs": [
    {
     "data": {
      "text/plain": [
       "Index(['NCT Number', 'Title', 'Acronym', 'Status', 'Study Results',\n",
       "       'Conditions', 'Interventions', 'Outcome Measures',\n",
       "       'Sponsor/Collaborators', 'Gender', 'Age', 'Phases', 'Enrollment',\n",
       "       'Funded Bys', 'Study Type', 'Study Designs', 'Other IDs', 'Start Date',\n",
       "       'Primary Completion Date', 'Completion Date', 'First Posted',\n",
       "       'Last Update Posted', 'Locations', 'URL'],\n",
       "      dtype='object')"
      ]
     },
     "execution_count": 11,
     "metadata": {},
     "output_type": "execute_result"
    }
   ],
   "source": [
    "df.columns"
   ]
  },
  {
   "cell_type": "code",
   "execution_count": 12,
   "id": "acf33235-28ae-462d-8c92-4afebb64cb44",
   "metadata": {},
   "outputs": [
    {
     "name": "stdout",
     "output_type": "stream",
     "text": [
      "Shape before dropping duplicates data (5783, 24)\n",
      "Shape after dropping duplicates data (5783, 24)\n"
     ]
    }
   ],
   "source": [
    "# Drop Duplicate Rows \n",
    "print(f\"Shape before dropping duplicates data {df.shape}\")\n",
    "df.drop_duplicates(inplace = True)\n",
    "print(f\"Shape after dropping duplicates data {df.shape}\")"
   ]
  },
  {
   "cell_type": "code",
   "execution_count": 13,
   "id": "dcc7c043-c037-42d1-bcb6-947e3d2ac469",
   "metadata": {},
   "outputs": [
    {
     "data": {
      "text/plain": [
       "NCT Number                  0.000000\n",
       "Title                       0.000000\n",
       "Acronym                    57.115684\n",
       "Status                      0.000000\n",
       "Study Results               0.000000\n",
       "Conditions                  0.000000\n",
       "Interventions              15.320768\n",
       "Outcome Measures            0.605222\n",
       "Sponsor/Collaborators       0.000000\n",
       "Gender                      0.172921\n",
       "Age                         0.000000\n",
       "Phases                     42.555767\n",
       "Enrollment                  0.587930\n",
       "Funded Bys                  0.000000\n",
       "Study Type                  0.000000\n",
       "Study Designs               0.605222\n",
       "Other IDs                   0.017292\n",
       "Start Date                  0.587930\n",
       "Primary Completion Date     0.622514\n",
       "Completion Date             0.622514\n",
       "First Posted                0.000000\n",
       "Last Update Posted          0.000000\n",
       "Locations                  10.115857\n",
       "URL                         0.000000\n",
       "dtype: float64"
      ]
     },
     "execution_count": 13,
     "metadata": {},
     "output_type": "execute_result"
    }
   ],
   "source": [
    "df.isnull().mean() * 100"
   ]
  },
  {
   "cell_type": "code",
   "execution_count": 14,
   "id": "86aa5da8-724e-40b8-81ef-4743f93525a9",
   "metadata": {},
   "outputs": [],
   "source": [
    "# We can extract a new feature form The Location which is the country where the study hold\n",
    "countries = [ str(df.Locations.iloc[i]).split(',')[-1] for i in range(df.shape[0])]\n",
    "df['Country'] = countries"
   ]
  },
  {
   "cell_type": "code",
   "execution_count": 15,
   "id": "8a007981-5567-44a7-9af6-4b2b4804e6a3",
   "metadata": {},
   "outputs": [
    {
     "data": {
      "text/plain": [
       "Index(['NCT Number', 'Title', 'Acronym', 'Status', 'Study Results',\n",
       "       'Conditions', 'Interventions', 'Outcome Measures',\n",
       "       'Sponsor/Collaborators', 'Gender', 'Age', 'Phases', 'Enrollment',\n",
       "       'Funded Bys', 'Study Type', 'Study Designs', 'Other IDs', 'Start Date',\n",
       "       'Primary Completion Date', 'Completion Date', 'First Posted',\n",
       "       'Last Update Posted', 'Locations', 'URL', 'Country'],\n",
       "      dtype='object')"
      ]
     },
     "execution_count": 15,
     "metadata": {},
     "output_type": "execute_result"
    }
   ],
   "source": [
    "df.columns"
   ]
  },
  {
   "cell_type": "code",
   "execution_count": 16,
   "id": "a1d2a5b6-8132-44a3-98dd-952a9c9a6a38",
   "metadata": {},
   "outputs": [
    {
     "data": {
      "text/plain": [
       "Country\n",
       " United States          1267\n",
       " France                  647\n",
       "nan                      585\n",
       " United Kingdom          306\n",
       " Italy                   235\n",
       " Spain                   234\n",
       " Turkey                  219\n",
       " Canada                  202\n",
       " Egypt                   192\n",
       " China                   171\n",
       " Brazil                  137\n",
       " Germany                 128\n",
       " Belgium                  91\n",
       " Mexico                   88\n",
       " Switzerland              76\n",
       " Russian Federation       69\n",
       " Sweden                   57\n",
       " Denmark                  56\n",
       " Israel                   56\n",
       " India                    55\n",
       " Pakistan                 53\n",
       " Argentina                47\n",
       " Netherlands              46\n",
       " Norway                   38\n",
       " Hong Kong                36\n",
       " Colombia                 33\n",
       " Republic of              31\n",
       " Austria                  29\n",
       " Poland                   29\n",
       " Singapore                29\n",
       " Saudi Arabia             27\n",
       " Australia                26\n",
       " Greece                   26\n",
       " Islamic Republic of      23\n",
       " South Africa             22\n",
       "Name: count, dtype: int64"
      ]
     },
     "execution_count": 16,
     "metadata": {},
     "output_type": "execute_result"
    }
   ],
   "source": [
    "df.Country.value_counts()[:35]"
   ]
  },
  {
   "cell_type": "markdown",
   "id": "dff0d02f-52f4-4c4e-a4bc-881c04da474c",
   "metadata": {},
   "source": [
    "#### Now We need to clasify the missing data to one of these categories\n",
    "\n",
    "##### 1) Missing Completely At Random (MCAR)\n",
    "\n",
    "##### 2) Missing At Random (MAR)\n",
    "\n",
    "##### 3) Not Missing At Random (NMAR)"
   ]
  },
  {
   "cell_type": "code",
   "execution_count": 17,
   "id": "c15ab9f2-3878-4ee3-ab37-1adfff277e88",
   "metadata": {},
   "outputs": [
    {
     "name": "stdout",
     "output_type": "stream",
     "text": [
      "Number of unique values is 2338 \n",
      "\n"
     ]
    },
    {
     "data": {
      "text/plain": [
       "Acronym\n",
       "COVID-19        47\n",
       "PROTECT          7\n",
       "CORONA           6\n",
       "RECOVER          5\n",
       "SCOPE            5\n",
       "                ..\n",
       "ASD              1\n",
       "VICO             1\n",
       "LICORNE          1\n",
       "LOSVID           1\n",
       "MindMyMindFU     1\n",
       "Name: count, Length: 2338, dtype: int64"
      ]
     },
     "execution_count": 17,
     "metadata": {},
     "output_type": "execute_result"
    }
   ],
   "source": [
    "# Lets's start with Acronym\n",
    "\n",
    "print(f\"Number of unique values is {df.Acronym.nunique()} \\n\")\n",
    "df.Acronym.value_counts()"
   ]
  },
  {
   "cell_type": "code",
   "execution_count": 18,
   "id": "43b7a24a-c10c-4c03-9876-3733a2d2e290",
   "metadata": {},
   "outputs": [
    {
     "data": {
      "text/plain": [
       "Country\n",
       " Iraq                      100.000000\n",
       " Belarus                   100.000000\n",
       " Rwanda                    100.000000\n",
       " South Sudan               100.000000\n",
       " Cambodia                  100.000000\n",
       " Bulgaria                  100.000000\n",
       " Cyprus                    100.000000\n",
       " Bosnia and Herzegovina    100.000000\n",
       " Guinea-Bissau             100.000000\n",
       " Dominican Republic        100.000000\n",
       " Ecuador                   100.000000\n",
       " North Macedonia           100.000000\n",
       " Bahrain                   100.000000\n",
       " Azerbaijan                100.000000\n",
       " Uruguay                   100.000000\n",
       " Uzbekistan                100.000000\n",
       " Kyrgyzstan                100.000000\n",
       " Cape Verde                100.000000\n",
       " Republic of                96.774194\n",
       " Taiwan                     93.750000\n",
       " Singapore                  93.103448\n",
       " Japan                      88.888889\n",
       " Kuwait                     87.500000\n",
       " China                      87.134503\n",
       " Turkey                     86.757991\n",
       " Ukraine                    85.714286\n",
       " Malaysia                   84.615385\n",
       " Egypt                      83.854167\n",
       " Hungary                    83.333333\n",
       " Hong Kong                  80.555556\n",
       " Bangladesh                 80.000000\n",
       " India                      80.000000\n",
       " Kazakhstan                 80.000000\n",
       " Saudi Arabia               77.777778\n",
       " Puerto Rico                76.470588\n",
       " Israel                     75.000000\n",
       " Zimbabwe                   75.000000\n",
       " Jordan                     72.727273\n",
       " Poland                     72.413793\n",
       " Indonesia                  71.428571\n",
       " United States              69.376480\n",
       " Romania                    69.230769\n",
       " Kenya                      66.666667\n",
       " Nepal                      66.666667\n",
       " New Zealand                66.666667\n",
       " Ethiopia                   66.666667\n",
       " Slovakia                   66.666667\n",
       " Thailand                   66.666667\n",
       " Lebanon                    66.666667\n",
       "nan                         66.324786\n",
       " Islamic Republic of        65.217391\n",
       " Russian Federation         65.217391\n",
       " Chile                      64.705882\n",
       " Austria                    62.068966\n",
       " Pakistan                   60.377358\n",
       " Brazil                     59.124088\n",
       " Mexico                     57.954545\n",
       " Sweden                     57.894737\n",
       " Argentina                  57.446809\n",
       " Canada                     55.940594\n",
       "Name: Acronym, dtype: float64"
      ]
     },
     "execution_count": 18,
     "metadata": {},
     "output_type": "execute_result"
    }
   ],
   "source": [
    "# Find the realtion between null values in Acronym and Countries\n",
    "(df.Acronym.isnull().groupby(df.Country).mean().sort_values(ascending = False) * 100)[:60]"
   ]
  },
  {
   "cell_type": "markdown",
   "id": "d9393071-562e-40c2-a39b-bc110129a4f4",
   "metadata": {},
   "source": [
    "##### After inspecting the relation between the missing values in Acronym and Country we can conclude that there is a sort of relation between these two features, so we can say that Data is Missing At Random (MAR).\n",
    "##### So we can Impute by Missing Category."
   ]
  },
  {
   "cell_type": "code",
   "execution_count": 19,
   "id": "fee16ab9-94c0-402e-bfab-fbe37ceae8be",
   "metadata": {},
   "outputs": [],
   "source": [
    "# impute by a missing Indicator  \n",
    "df.Acronym = df.Acronym.fillna(\"Missing Acronym\")"
   ]
  },
  {
   "cell_type": "code",
   "execution_count": 20,
   "id": "2dab9625-b5a5-4495-abee-eb305a604c44",
   "metadata": {},
   "outputs": [
    {
     "data": {
      "text/plain": [
       "NCT Number                  0.000000\n",
       "Title                       0.000000\n",
       "Acronym                     0.000000\n",
       "Status                      0.000000\n",
       "Study Results               0.000000\n",
       "Conditions                  0.000000\n",
       "Interventions              15.320768\n",
       "Outcome Measures            0.605222\n",
       "Sponsor/Collaborators       0.000000\n",
       "Gender                      0.172921\n",
       "Age                         0.000000\n",
       "Phases                     42.555767\n",
       "Enrollment                  0.587930\n",
       "Funded Bys                  0.000000\n",
       "Study Type                  0.000000\n",
       "Study Designs               0.605222\n",
       "Other IDs                   0.017292\n",
       "Start Date                  0.587930\n",
       "Primary Completion Date     0.622514\n",
       "Completion Date             0.622514\n",
       "First Posted                0.000000\n",
       "Last Update Posted          0.000000\n",
       "Locations                  10.115857\n",
       "URL                         0.000000\n",
       "Country                     0.000000\n",
       "dtype: float64"
      ]
     },
     "execution_count": 20,
     "metadata": {},
     "output_type": "execute_result"
    }
   ],
   "source": [
    "# Detecting (Percentage) Missing Data\n",
    "df.isnull().mean() * 100"
   ]
  },
  {
   "cell_type": "markdown",
   "id": "6a25224d-185d-40d7-affc-f208c4f70f5c",
   "metadata": {},
   "source": [
    "##### We can do the same for other categorical features such as Interventions , Phases , Locations and other categorical features"
   ]
  },
  {
   "cell_type": "code",
   "execution_count": 21,
   "id": "3579d7d8-fa8f-410e-8607-69c2a733bb47",
   "metadata": {},
   "outputs": [],
   "source": [
    "# Impute Interventions , Phases , Locations by Missing Category\n",
    "\n",
    "categorical_features = df.select_dtypes(include = object).columns\n",
    "\n",
    "features = categorical_features[df[categorical_features].isnull().mean() > 0]\n",
    "\n",
    "for feature in features:\n",
    "    df[feature] = df[feature].fillna(f\"Missing {feature}\")"
   ]
  },
  {
   "cell_type": "code",
   "execution_count": 22,
   "id": "9731012c-e991-4442-930b-fc603198414c",
   "metadata": {},
   "outputs": [
    {
     "data": {
      "text/plain": [
       "NCT Number                 0.00000\n",
       "Title                      0.00000\n",
       "Acronym                    0.00000\n",
       "Status                     0.00000\n",
       "Study Results              0.00000\n",
       "Conditions                 0.00000\n",
       "Interventions              0.00000\n",
       "Outcome Measures           0.00000\n",
       "Sponsor/Collaborators      0.00000\n",
       "Gender                     0.00000\n",
       "Age                        0.00000\n",
       "Phases                     0.00000\n",
       "Enrollment                 0.58793\n",
       "Funded Bys                 0.00000\n",
       "Study Type                 0.00000\n",
       "Study Designs              0.00000\n",
       "Other IDs                  0.00000\n",
       "Start Date                 0.00000\n",
       "Primary Completion Date    0.00000\n",
       "Completion Date            0.00000\n",
       "First Posted               0.00000\n",
       "Last Update Posted         0.00000\n",
       "Locations                  0.00000\n",
       "URL                        0.00000\n",
       "Country                    0.00000\n",
       "dtype: float64"
      ]
     },
     "execution_count": 22,
     "metadata": {},
     "output_type": "execute_result"
    }
   ],
   "source": [
    "# Detecting (Percentage) Missing Data\n",
    "df.isnull().mean() * 100"
   ]
  },
  {
   "cell_type": "markdown",
   "id": "cbe4db0a-f8f5-4b5c-9140-f7e6a4b4e90a",
   "metadata": {},
   "source": [
    "##### Now the Time to handle The missing data for the Enrollment"
   ]
  },
  {
   "cell_type": "code",
   "execution_count": 24,
   "id": "c14a67a6-f8b6-473a-b506-e4f7c517e713",
   "metadata": {},
   "outputs": [
    {
     "data": {
      "text/plain": [
       "34.06593382031148"
      ]
     },
     "execution_count": 24,
     "metadata": {},
     "output_type": "execute_result"
    }
   ],
   "source": [
    "# Check the skewness\n",
    "df.Enrollment.skew()"
   ]
  },
  {
   "cell_type": "code",
   "execution_count": 25,
   "id": "67c9ba98-bc55-46a2-9b8e-6f5aa605476b",
   "metadata": {},
   "outputs": [
    {
     "data": {
      "text/plain": [
       "<Axes: ylabel='Density'>"
      ]
     },
     "execution_count": 25,
     "metadata": {},
     "output_type": "execute_result"
    },
    {
     "data": {
      "image/png": "[encoded data removed]",
      "text/plain": [
       "<Figure size 1500x827 with 1 Axes>"
      ]
     },
     "metadata": {},
     "output_type": "display_data"
    }
   ],
   "source": [
    "# Plotting the distribution of the enrollment\n",
    "df.Enrollment.plot(kind = 'kde')"
   ]
  },
  {
   "cell_type": "markdown",
   "id": "5d839c63-e29f-4773-b288-90710b1e1ca4",
   "metadata": {},
   "source": [
    "##### The value of Skewness is 34 which means that we This feature isn't normally distributed.\n",
    "##### So We will impute by the median\n"
   ]
  },
  {
   "cell_type": "code",
   "execution_count": 26,
   "id": "bcaf2215-f5ba-4aae-8ade-2fb431b0346a",
   "metadata": {},
   "outputs": [
    {
     "name": "stdout",
     "output_type": "stream",
     "text": [
      "the min value is 0.0 \n",
      " The max value is 20000000.0 \n",
      " The mean is 18319.48860671421 \n",
      " The Median is 170.0 \n",
      " Standard Devation is 404543.7287841073\n"
     ]
    }
   ],
   "source": [
    "# Some Statstical Valuse for the Enrollment Column\n",
    "\n",
    "min_Value = df.Enrollment.min()\n",
    "max_Value = df.Enrollment.max()\n",
    "mean_Value = df.Enrollment.mean()\n",
    "median_Value = df.Enrollment.median()\n",
    "std_Value = df.Enrollment.std()\n",
    "\n",
    "print(f\"the min value is {min_Value} \\n \\\n",
    "The max value is {max_Value} \\n \\\n",
    "The mean is {mean_Value} \\n \\\n",
    "The Median is {median_Value} \\n \\\n",
    "Standard Devation is {std_Value}\")"
   ]
  },
  {
   "cell_type": "code",
   "execution_count": 27,
   "id": "ee206efe-5972-4de5-bb1b-6804a19c8c03",
   "metadata": {},
   "outputs": [],
   "source": [
    "# Using Median to impute Missing Values\n",
    "df.Enrollment = df.Enrollment.fillna(median_Value)"
   ]
  },
  {
   "cell_type": "code",
   "execution_count": 28,
   "id": "48b69d43-f113-4986-aa5d-b4f9987cb8ae",
   "metadata": {},
   "outputs": [
    {
     "data": {
      "text/plain": [
       "NCT Number                 0.0\n",
       "Title                      0.0\n",
       "Acronym                    0.0\n",
       "Status                     0.0\n",
       "Study Results              0.0\n",
       "Conditions                 0.0\n",
       "Interventions              0.0\n",
       "Outcome Measures           0.0\n",
       "Sponsor/Collaborators      0.0\n",
       "Gender                     0.0\n",
       "Age                        0.0\n",
       "Phases                     0.0\n",
       "Enrollment                 0.0\n",
       "Funded Bys                 0.0\n",
       "Study Type                 0.0\n",
       "Study Designs              0.0\n",
       "Other IDs                  0.0\n",
       "Start Date                 0.0\n",
       "Primary Completion Date    0.0\n",
       "Completion Date            0.0\n",
       "First Posted               0.0\n",
       "Last Update Posted         0.0\n",
       "Locations                  0.0\n",
       "URL                        0.0\n",
       "Country                    0.0\n",
       "dtype: float64"
      ]
     },
     "execution_count": 28,
     "metadata": {},
     "output_type": "execute_result"
    }
   ],
   "source": [
    "# Detecting (Percentage) Missing Data\n",
    "df.isnull().mean() * 100"
   ]
  },
  {
   "cell_type": "code",
   "execution_count": 29,
   "id": "235c70ef-1084-4c5d-af9a-70cf263eac6c",
   "metadata": {},
   "outputs": [
    {
     "data": {
      "text/html": [
       "<div>\n",
       "<style scoped>\n",
       "    .dataframe tbody tr th:only-of-type {\n",
       "        vertical-align: middle;\n",
       "    }\n",
       "\n",
       "    .dataframe tbody tr th {\n",
       "        vertical-align: top;\n",
       "    }\n",
       "\n",
       "    .dataframe thead th {\n",
       "        text-align: right;\n",
       "    }\n",
       "</style>\n",
       "<table border=\"1\" class=\"dataframe\">\n",
       "  <thead>\n",
       "    <tr style=\"text-align: right;\">\n",
       "      <th></th>\n",
       "      <th>NCT Number</th>\n",
       "      <th>Title</th>\n",
       "      <th>Acronym</th>\n",
       "      <th>Status</th>\n",
       "      <th>Study Results</th>\n",
       "      <th>Conditions</th>\n",
       "      <th>Interventions</th>\n",
       "      <th>Outcome Measures</th>\n",
       "      <th>Sponsor/Collaborators</th>\n",
       "      <th>Gender</th>\n",
       "      <th>...</th>\n",
       "      <th>Study Designs</th>\n",
       "      <th>Other IDs</th>\n",
       "      <th>Start Date</th>\n",
       "      <th>Primary Completion Date</th>\n",
       "      <th>Completion Date</th>\n",
       "      <th>First Posted</th>\n",
       "      <th>Last Update Posted</th>\n",
       "      <th>Locations</th>\n",
       "      <th>URL</th>\n",
       "      <th>Country</th>\n",
       "    </tr>\n",
       "    <tr>\n",
       "      <th>Rank</th>\n",
       "      <th></th>\n",
       "      <th></th>\n",
       "      <th></th>\n",
       "      <th></th>\n",
       "      <th></th>\n",
       "      <th></th>\n",
       "      <th></th>\n",
       "      <th></th>\n",
       "      <th></th>\n",
       "      <th></th>\n",
       "      <th></th>\n",
       "      <th></th>\n",
       "      <th></th>\n",
       "      <th></th>\n",
       "      <th></th>\n",
       "      <th></th>\n",
       "      <th></th>\n",
       "      <th></th>\n",
       "      <th></th>\n",
       "      <th></th>\n",
       "      <th></th>\n",
       "    </tr>\n",
       "  </thead>\n",
       "  <tbody>\n",
       "    <tr>\n",
       "      <th>1</th>\n",
       "      <td>NCT04785898</td>\n",
       "      <td>Diagnostic Performance of the ID Now™ COVID-19...</td>\n",
       "      <td>COVID-IDNow</td>\n",
       "      <td>Active, not recruiting</td>\n",
       "      <td>No Results Available</td>\n",
       "      <td>Covid19</td>\n",
       "      <td>Diagnostic Test: ID Now™ COVID-19 Screening Test</td>\n",
       "      <td>Evaluate the diagnostic performance of the ID ...</td>\n",
       "      <td>Groupe Hospitalier Paris Saint Joseph</td>\n",
       "      <td>All</td>\n",
       "      <td>...</td>\n",
       "      <td>Allocation: N/A|Intervention Model: Single Gro...</td>\n",
       "      <td>COVID-IDNow</td>\n",
       "      <td>November 9, 2020</td>\n",
       "      <td>December 22, 2020</td>\n",
       "      <td>April 30, 2021</td>\n",
       "      <td>March 8, 2021</td>\n",
       "      <td>March 8, 2021</td>\n",
       "      <td>Groupe Hospitalier Paris Saint-Joseph, Paris, ...</td>\n",
       "      <td>https://ClinicalTrials.gov/show/NCT04785898</td>\n",
       "      <td>France</td>\n",
       "    </tr>\n",
       "    <tr>\n",
       "      <th>2</th>\n",
       "      <td>NCT04595136</td>\n",
       "      <td>Study to Evaluate the Efficacy of COVID19-0001...</td>\n",
       "      <td>COVID-19</td>\n",
       "      <td>Not yet recruiting</td>\n",
       "      <td>No Results Available</td>\n",
       "      <td>SARS-CoV-2 Infection</td>\n",
       "      <td>Drug: Drug COVID19-0001-USR|Drug: normal saline</td>\n",
       "      <td>Change on viral load results from baseline aft...</td>\n",
       "      <td>United Medical Specialties</td>\n",
       "      <td>All</td>\n",
       "      <td>...</td>\n",
       "      <td>Allocation: Randomized|Intervention Model: Par...</td>\n",
       "      <td>COVID19-0001-USR</td>\n",
       "      <td>November 2, 2020</td>\n",
       "      <td>December 15, 2020</td>\n",
       "      <td>January 29, 2021</td>\n",
       "      <td>October 20, 2020</td>\n",
       "      <td>October 20, 2020</td>\n",
       "      <td>Cimedical, Barranquilla, Atlantico, Colombia</td>\n",
       "      <td>https://ClinicalTrials.gov/show/NCT04595136</td>\n",
       "      <td>Colombia</td>\n",
       "    </tr>\n",
       "    <tr>\n",
       "      <th>3</th>\n",
       "      <td>NCT04395482</td>\n",
       "      <td>Lung CT Scan Analysis of SARS-CoV2 Induced Lun...</td>\n",
       "      <td>TAC-COVID19</td>\n",
       "      <td>Recruiting</td>\n",
       "      <td>No Results Available</td>\n",
       "      <td>covid19</td>\n",
       "      <td>Other: Lung CT scan analysis in COVID-19 patients</td>\n",
       "      <td>A qualitative analysis of parenchymal lung dam...</td>\n",
       "      <td>University of Milano Bicocca</td>\n",
       "      <td>All</td>\n",
       "      <td>...</td>\n",
       "      <td>Observational Model: Cohort|Time Perspective: ...</td>\n",
       "      <td>TAC-COVID19</td>\n",
       "      <td>May 7, 2020</td>\n",
       "      <td>June 15, 2021</td>\n",
       "      <td>June 15, 2021</td>\n",
       "      <td>May 20, 2020</td>\n",
       "      <td>November 9, 2020</td>\n",
       "      <td>Ospedale Papa Giovanni XXIII, Bergamo, Italy|P...</td>\n",
       "      <td>https://ClinicalTrials.gov/show/NCT04395482</td>\n",
       "      <td>San Marino</td>\n",
       "    </tr>\n",
       "    <tr>\n",
       "      <th>4</th>\n",
       "      <td>NCT04416061</td>\n",
       "      <td>The Role of a Private Hospital in Hong Kong Am...</td>\n",
       "      <td>COVID-19</td>\n",
       "      <td>Active, not recruiting</td>\n",
       "      <td>No Results Available</td>\n",
       "      <td>COVID</td>\n",
       "      <td>Diagnostic Test: COVID 19 Diagnostic Test</td>\n",
       "      <td>Proportion of asymptomatic subjects|Proportion...</td>\n",
       "      <td>Hong Kong Sanatorium &amp; Hospital</td>\n",
       "      <td>All</td>\n",
       "      <td>...</td>\n",
       "      <td>Observational Model: Cohort|Time Perspective: ...</td>\n",
       "      <td>RC-2020-08</td>\n",
       "      <td>May 25, 2020</td>\n",
       "      <td>July 31, 2020</td>\n",
       "      <td>August 31, 2020</td>\n",
       "      <td>June 4, 2020</td>\n",
       "      <td>June 4, 2020</td>\n",
       "      <td>Hong Kong Sanatorium &amp; Hospital, Hong Kong, Ho...</td>\n",
       "      <td>https://ClinicalTrials.gov/show/NCT04416061</td>\n",
       "      <td>Hong Kong</td>\n",
       "    </tr>\n",
       "    <tr>\n",
       "      <th>5</th>\n",
       "      <td>NCT04395924</td>\n",
       "      <td>Maternal-foetal Transmission of SARS-Cov-2</td>\n",
       "      <td>TMF-COVID-19</td>\n",
       "      <td>Recruiting</td>\n",
       "      <td>No Results Available</td>\n",
       "      <td>Maternal Fetal Infection Transmission|COVID-19...</td>\n",
       "      <td>Diagnostic Test: Diagnosis of SARS-Cov2 by RT-...</td>\n",
       "      <td>COVID-19 by positive PCR in cord blood and / o...</td>\n",
       "      <td>Centre Hospitalier Régional d'Orléans|Centre d...</td>\n",
       "      <td>Female</td>\n",
       "      <td>...</td>\n",
       "      <td>Observational Model: Cohort|Time Perspective: ...</td>\n",
       "      <td>CHRO-2020-10</td>\n",
       "      <td>May 5, 2020</td>\n",
       "      <td>May 2021</td>\n",
       "      <td>May 2021</td>\n",
       "      <td>May 20, 2020</td>\n",
       "      <td>June 4, 2020</td>\n",
       "      <td>CHR Orléans, Orléans, France</td>\n",
       "      <td>https://ClinicalTrials.gov/show/NCT04395924</td>\n",
       "      <td>France</td>\n",
       "    </tr>\n",
       "  </tbody>\n",
       "</table>\n",
       "<p>5 rows × 25 columns</p>\n",
       "</div>"
      ],
      "text/plain": [
       "       NCT Number                                              Title  \\\n",
       "Rank                                                                   \n",
       "1     NCT04785898  Diagnostic Performance of the ID Now™ COVID-19...   \n",
       "2     NCT04595136  Study to Evaluate the Efficacy of COVID19-0001...   \n",
       "3     NCT04395482  Lung CT Scan Analysis of SARS-CoV2 Induced Lun...   \n",
       "4     NCT04416061  The Role of a Private Hospital in Hong Kong Am...   \n",
       "5     NCT04395924         Maternal-foetal Transmission of SARS-Cov-2   \n",
       "\n",
       "           Acronym                  Status         Study Results  \\\n",
       "Rank                                                               \n",
       "1      COVID-IDNow  Active, not recruiting  No Results Available   \n",
       "2         COVID-19      Not yet recruiting  No Results Available   \n",
       "3      TAC-COVID19              Recruiting  No Results Available   \n",
       "4         COVID-19  Active, not recruiting  No Results Available   \n",
       "5     TMF-COVID-19              Recruiting  No Results Available   \n",
       "\n",
       "                                             Conditions  \\\n",
       "Rank                                                      \n",
       "1                                               Covid19   \n",
       "2                                  SARS-CoV-2 Infection   \n",
       "3                                               covid19   \n",
       "4                                                 COVID   \n",
       "5     Maternal Fetal Infection Transmission|COVID-19...   \n",
       "\n",
       "                                          Interventions  \\\n",
       "Rank                                                      \n",
       "1      Diagnostic Test: ID Now™ COVID-19 Screening Test   \n",
       "2       Drug: Drug COVID19-0001-USR|Drug: normal saline   \n",
       "3     Other: Lung CT scan analysis in COVID-19 patients   \n",
       "4             Diagnostic Test: COVID 19 Diagnostic Test   \n",
       "5     Diagnostic Test: Diagnosis of SARS-Cov2 by RT-...   \n",
       "\n",
       "                                       Outcome Measures  \\\n",
       "Rank                                                      \n",
       "1     Evaluate the diagnostic performance of the ID ...   \n",
       "2     Change on viral load results from baseline aft...   \n",
       "3     A qualitative analysis of parenchymal lung dam...   \n",
       "4     Proportion of asymptomatic subjects|Proportion...   \n",
       "5     COVID-19 by positive PCR in cord blood and / o...   \n",
       "\n",
       "                                  Sponsor/Collaborators  Gender  ...  \\\n",
       "Rank                                                             ...   \n",
       "1                 Groupe Hospitalier Paris Saint Joseph     All  ...   \n",
       "2                            United Medical Specialties     All  ...   \n",
       "3                          University of Milano Bicocca     All  ...   \n",
       "4                       Hong Kong Sanatorium & Hospital     All  ...   \n",
       "5     Centre Hospitalier Régional d'Orléans|Centre d...  Female  ...   \n",
       "\n",
       "                                          Study Designs         Other IDs  \\\n",
       "Rank                                                                        \n",
       "1     Allocation: N/A|Intervention Model: Single Gro...       COVID-IDNow   \n",
       "2     Allocation: Randomized|Intervention Model: Par...  COVID19-0001-USR   \n",
       "3     Observational Model: Cohort|Time Perspective: ...       TAC-COVID19   \n",
       "4     Observational Model: Cohort|Time Perspective: ...        RC-2020-08   \n",
       "5     Observational Model: Cohort|Time Perspective: ...      CHRO-2020-10   \n",
       "\n",
       "            Start Date Primary Completion Date   Completion Date  \\\n",
       "Rank                                                               \n",
       "1     November 9, 2020       December 22, 2020    April 30, 2021   \n",
       "2     November 2, 2020       December 15, 2020  January 29, 2021   \n",
       "3          May 7, 2020           June 15, 2021     June 15, 2021   \n",
       "4         May 25, 2020           July 31, 2020   August 31, 2020   \n",
       "5          May 5, 2020                May 2021          May 2021   \n",
       "\n",
       "          First Posted Last Update Posted  \\\n",
       "Rank                                        \n",
       "1        March 8, 2021      March 8, 2021   \n",
       "2     October 20, 2020   October 20, 2020   \n",
       "3         May 20, 2020   November 9, 2020   \n",
       "4         June 4, 2020       June 4, 2020   \n",
       "5         May 20, 2020       June 4, 2020   \n",
       "\n",
       "                                              Locations  \\\n",
       "Rank                                                      \n",
       "1     Groupe Hospitalier Paris Saint-Joseph, Paris, ...   \n",
       "2          Cimedical, Barranquilla, Atlantico, Colombia   \n",
       "3     Ospedale Papa Giovanni XXIII, Bergamo, Italy|P...   \n",
       "4     Hong Kong Sanatorium & Hospital, Hong Kong, Ho...   \n",
       "5                          CHR Orléans, Orléans, France   \n",
       "\n",
       "                                              URL      Country  \n",
       "Rank                                                            \n",
       "1     https://ClinicalTrials.gov/show/NCT04785898       France  \n",
       "2     https://ClinicalTrials.gov/show/NCT04595136     Colombia  \n",
       "3     https://ClinicalTrials.gov/show/NCT04395482   San Marino  \n",
       "4     https://ClinicalTrials.gov/show/NCT04416061    Hong Kong  \n",
       "5     https://ClinicalTrials.gov/show/NCT04395924       France  \n",
       "\n",
       "[5 rows x 25 columns]"
      ]
     },
     "execution_count": 29,
     "metadata": {},
     "output_type": "execute_result"
    }
   ],
   "source": [
    "df.head()"
   ]
  },
  {
   "cell_type": "markdown",
   "id": "80842c8b-c19c-48c5-84f6-a29de9c32186",
   "metadata": {},
   "source": [
    "### Data Visualizations"
   ]
  },
  {
   "cell_type": "code",
   "execution_count": 30,
   "id": "74c0acb4-e48b-49a1-a4d0-cce3772cadb2",
   "metadata": {},
   "outputs": [
    {
     "name": "stderr",
     "output_type": "stream",
     "text": [
      "/opt/anaconda3/lib/python3.11/site-packages/seaborn/_oldcore.py:1765: FutureWarning: unique with argument that is not not a Series, Index, ExtensionArray, or np.ndarray is deprecated and will raise in a future version.\n",
      "  order = pd.unique(vector)\n"
     ]
    },
    {
     "data": {
      "image/png": "[encoded data removed]",
      "text/plain": [
       "<Figure size 1500x827 with 1 Axes>"
      ]
     },
     "metadata": {},
     "output_type": "display_data"
    }
   ],
   "source": [
    "# Get Countires with highest Contributiuons\n",
    "top_10_Countires = df.Country.value_counts()[:10]\n",
    "visualize_data(top_10_Countires , caption = 'Top 10 Countries' , ylabel = 'Contributions')"
   ]
  },
  {
   "cell_type": "code",
   "execution_count": 31,
   "id": "188f36c6-8558-4345-bf6d-b30e1c9ccce2",
   "metadata": {},
   "outputs": [
    {
     "name": "stderr",
     "output_type": "stream",
     "text": [
      "/opt/anaconda3/lib/python3.11/site-packages/seaborn/_oldcore.py:1765: FutureWarning: unique with argument that is not not a Series, Index, ExtensionArray, or np.ndarray is deprecated and will raise in a future version.\n",
      "  order = pd.unique(vector)\n"
     ]
    },
    {
     "data": {
      "image/png": "[encoded data removed]",
      "text/plain": [
       "<Figure size 1500x827 with 1 Axes>"
      ]
     },
     "metadata": {},
     "output_type": "display_data"
    }
   ],
   "source": [
    "# Status of the Application\n",
    "status = df.Status.value_counts()\n",
    "\n",
    "visualize_data(status , caption = 'Status of The Application' , ylabel = 'Denisty')"
   ]
  },
  {
   "cell_type": "code",
   "execution_count": 32,
   "id": "3ce40b13-81b0-4729-9389-1dcac7356cb0",
   "metadata": {},
   "outputs": [
    {
     "name": "stderr",
     "output_type": "stream",
     "text": [
      "/opt/anaconda3/lib/python3.11/site-packages/seaborn/_oldcore.py:1765: FutureWarning: unique with argument that is not not a Series, Index, ExtensionArray, or np.ndarray is deprecated and will raise in a future version.\n",
      "  order = pd.unique(vector)\n"
     ]
    },
    {
     "data": {
      "image/png": "[encoded data removed]",
      "text/plain": [
       "<Figure size 1500x827 with 1 Axes>"
      ]
     },
     "metadata": {},
     "output_type": "display_data"
    }
   ],
   "source": [
    "# Gender Visualiztions\n",
    "gender = df.Gender.value_counts()\n",
    "visualize_data(gender , caption = 'Gender Distribution' , ylabel = 'Denisty')"
   ]
  },
  {
   "cell_type": "code",
   "execution_count": 33,
   "id": "3ad89c2c-64f7-436c-8274-fb9e8ac0b28d",
   "metadata": {},
   "outputs": [
    {
     "name": "stderr",
     "output_type": "stream",
     "text": [
      "/opt/anaconda3/lib/python3.11/site-packages/seaborn/_oldcore.py:1765: FutureWarning: unique with argument that is not not a Series, Index, ExtensionArray, or np.ndarray is deprecated and will raise in a future version.\n",
      "  order = pd.unique(vector)\n"
     ]
    },
    {
     "data": {
      "image/png": "[encoded data removed]",
      "text/plain": [
       "<Figure size 1500x827 with 1 Axes>"
      ]
     },
     "metadata": {},
     "output_type": "display_data"
    }
   ],
   "source": [
    "# Which month has the highest start\n",
    "start_month = pd.Series([ str(df['Start Date'].iloc[i]).split(' ')[0] for i in range (df.shape[0])])\n",
    "\n",
    "start_month_Distribution = start_month.value_counts()\n",
    "\n",
    "visualize_data(start_month_Distribution , caption = 'Start Month Distribution' , ylabel = 'Denisty')"
   ]
  },
  {
   "cell_type": "code",
   "execution_count": 34,
   "id": "c3f1cb51-7c02-4fdf-b73f-628647f695a8",
   "metadata": {},
   "outputs": [
    {
     "name": "stdout",
     "output_type": "stream",
     "text": [
      "The shape of data frame is (5783, 25)\n",
      "Nunique in NCT Number is 5783\n",
      "Nunique in URL is 5783\n"
     ]
    }
   ],
   "source": [
    "print(f\"The shape of data frame is {df.shape}\")\n",
    "print(f\"Nunique in NCT Number is {df['NCT Number'].nunique()}\")\n",
    "print(f\"Nunique in URL is {df.URL.nunique()}\")"
   ]
  },
  {
   "cell_type": "code",
   "execution_count": null,
   "id": "db882367-635e-4d22-b6de-39605e3fa40c",
   "metadata": {},
   "outputs": [],
   "source": []
  },
  {
   "cell_type": "code",
   "execution_count": null,
   "id": "bd27ee85-09a8-44d6-8cb3-b908022206a8",
   "metadata": {},
   "outputs": [],
   "source": []
  },
  {
   "cell_type": "code",
   "execution_count": null,
   "id": "1432bb35-39e2-45c7-be4b-5631a35f4347",
   "metadata": {},
   "outputs": [],
   "source": []
  },
  {
   "cell_type": "code",
   "execution_count": null,
   "id": "616ebb6d-a23b-4d24-a1ea-9b43e153e571",
   "metadata": {},
   "outputs": [],
   "source": []
  },
  {
   "cell_type": "code",
   "execution_count": null,
   "id": "76a9efac-436d-4cf3-8dcc-bd57f9155d45",
   "metadata": {},
   "outputs": [],
   "source": []
  }
 ],
 "metadata": {
  "kernelspec": {
   "display_name": "Python 3 (ipykernel)",
   "language": "python",
   "name": "python3"
  },
  "language_info": {
   "codemirror_mode": {
    "name": "ipython",
    "version": 3
   },
   "file_extension": ".py",
   "mimetype": "text/x-python",
   "name": "python",
   "nbconvert_exporter": "python",
   "pygments_lexer": "ipython3",
   "version": "3.11.7"
  }
 },
 "nbformat": 4,
 "nbformat_minor": 5
}
